{
 "cells": [
  {
   "cell_type": "code",
   "execution_count": 1,
   "metadata": {},
   "outputs": [],
   "source": [
    "import numpy as np\n",
    "import matplotlib.pyplot as plt\n",
    "import datetime\n",
    "import tensorflow as tf\n",
    "import os\n",
    "from sklearn.model_selection import train_test_split"
   ]
  },
  {
   "cell_type": "markdown",
   "metadata": {},
   "source": [
    "# Get the data"
   ]
  },
  {
   "cell_type": "code",
   "execution_count": 2,
   "metadata": {},
   "outputs": [],
   "source": [
    "data_dir = \"./data\"\n",
    "data_dict = np.load(os.path.join(data_dir, 'random.npz'))"
   ]
  },
  {
   "cell_type": "code",
   "execution_count": 7,
   "metadata": {},
   "outputs": [],
   "source": [
    "wavelengths = data_dict['wavelengths']\n",
    "X_all = data_dict['layers']\n",
    "Y_all = data_dict['reflectances']"
   ]
  },
  {
   "cell_type": "code",
   "execution_count": 15,
   "metadata": {},
   "outputs": [],
   "source": [
    "X_train, X_test, Y_train, Y_test = \\\n",
    "    train_test_split(X_all, Y_all, test_size=1e-2)\n",
    "X_train, X_val, Y_train, Y_val =\\\n",
    "    train_test_split(X_train, Y_train, test_size=1e-2)"
   ]
  },
  {
   "cell_type": "code",
   "execution_count": 8,
   "metadata": {},
   "outputs": [],
   "source": [
    "# Function to get a random batch\n",
    "def random_batch(batch_size, X, Y):\n",
    "    indices = np.random.randint(X.shape[0], size=batch_size)\n",
    "    X_ = X[indices]\n",
    "    y_ = Y[indices]\n",
    "    return X_, y_"
   ]
  },
  {
   "cell_type": "markdown",
   "metadata": {},
   "source": [
    "# Make the graph"
   ]
  },
  {
   "cell_type": "code",
   "execution_count": 18,
   "metadata": {},
   "outputs": [
    {
     "name": "stdout",
     "output_type": "stream",
     "text": [
      "Number of Batches per epoch: 382\n"
     ]
    }
   ],
   "source": [
    "# Training params\n",
    "n_epochs = 100\n",
    "batch_size = 256\n",
    "n_batches = X_train.shape[0] // batch_size\n",
    "print(\"Number of Batches per epoch: {}\".format(n_batches))"
   ]
  },
  {
   "cell_type": "code",
   "execution_count": 22,
   "metadata": {},
   "outputs": [],
   "source": [
    "# Saving data\n",
    "name = \"fully_connected_1\"\n",
    "model_dir = os.path.join('.', 'models', name)\n",
    "now = datetime.datetime.utcnow().strftime(\"%Y%m%d%H%M%S\")\n",
    "log_dir = os.path.join('.', 'tf_logs', name+\"_\"+now)\n",
    "for d in [model_dir, log_dir]:\n",
    "    if not os.path.isdir(d):\n",
    "        os.makedirs(d)\n",
    "\n",
    "checkpoint_path = os.path.join(model_dir, \"model_ckpt.ckpt\")\n",
    "checkpoint_epoch_path = checkpoint_path + \".epoch\"\n",
    "final_model_path = os.path.join(model_dir, \"final_model\")"
   ]
  },
  {
   "cell_type": "code",
   "execution_count": 30,
   "metadata": {},
   "outputs": [],
   "source": [
    "tf.reset_default_graph()\n",
    "\n",
    "# Make the actual neural net\n",
    "with tf.name_scope(\"dnn\"):\n",
    "    # Inputs and outputs\n",
    "    X_in = tf.placeholder(tf.float32, shape=(None, X_all.shape[1]), name=\"X\")\n",
    "    y_in = tf.placeholder(tf.float32, shape=(None, Y_all.shape[1]), name=\"Y\")\n",
    "\n",
    "    # Hidden layers\n",
    "    h_prev = X_in\n",
    "    for layernum in range(5):  # number of layers\n",
    "        h = tf.layers.dense(h_prev, 8, activation=tf.nn.elu,\n",
    "                            name=\"h{}\".format(layernum))\n",
    "        h_prev = h\n",
    "    \n",
    "    # Output\n",
    "    output = tf.layers.dense(h_prev, Y_all.shape[1], name=\"output\")\n",
    "    \n",
    "with tf.name_scope(\"loss\"):\n",
    "    error = y_in - output\n",
    "    rmse = tf.sqrt(tf.reduce_mean(tf.square(error)), name=\"rmse\")\n",
    "    loss_summary = tf.summary.scalar('rmse_loss', rmse)\n",
    "    optimizer = tf.train.MomentumOptimizer(learning_rate=1e-3, momentum=0.9,\n",
    "                                          use_nesterov=True)\n",
    "    training_op = optimizer.minimize(rmse)\n",
    "\n",
    "with tf.name_scope(\"admin\"):\n",
    "    init = tf.global_variables_initializer()\n",
    "    saver = tf.train.Saver()\n",
    "    train_writer = tf.summary.FileWriter(log_dir, tf.get_default_graph())\n",
    "    test_writer = tf.summary.FileWriter(log_dir, tf.get_default_graph())"
   ]
  },
  {
   "cell_type": "code",
   "execution_count": 31,
   "metadata": {},
   "outputs": [
    {
     "name": "stdout",
     "output_type": "stream",
     "text": [
      "Epoch: 0 \tLoss: 0.14297067\n",
      "Epoch: 1 \tLoss: 0.12398439\n",
      "Epoch: 2 \tLoss: 0.122547805\n",
      "Epoch: 3 \tLoss: 0.122333206\n",
      "Epoch: 4 \tLoss: 0.12300115\n",
      "Epoch: 5 \tLoss: 0.122082956\n",
      "Epoch: 6 \tLoss: 0.12307665\n",
      "Epoch: 7 \tLoss: 0.122096345\n",
      "Epoch: 8 \tLoss: 0.12175741\n",
      "Epoch: 9 \tLoss: 0.12169238\n",
      "Epoch: 10 \tLoss: 0.12182747\n",
      "Epoch: 11 \tLoss: 0.122002654\n",
      "Epoch: 12 \tLoss: 0.12159643\n",
      "Epoch: 13 \tLoss: 0.12178228\n",
      "Epoch: 14 \tLoss: 0.121598065\n",
      "Epoch: 15 \tLoss: 0.121555924\n",
      "Epoch: 16 \tLoss: 0.121581286\n",
      "Epoch: 17 \tLoss: 0.12156291\n",
      "Epoch: 18 \tLoss: 0.121615976\n",
      "Epoch: 19 \tLoss: 0.1215406\n",
      "Epoch: 20 \tLoss: 0.12151281\n",
      "Epoch: 21 \tLoss: 0.12145732\n",
      "Epoch: 22 \tLoss: 0.12148879\n",
      "Epoch: 23 \tLoss: 0.1215261\n",
      "Epoch: 24 \tLoss: 0.12159227\n",
      "Epoch: 25 \tLoss: 0.12147492\n",
      "Epoch: 26 \tLoss: 0.12151682\n",
      "Epoch: 27 \tLoss: 0.12148507\n",
      "Epoch: 28 \tLoss: 0.1214394\n",
      "Epoch: 29 \tLoss: 0.121696144\n",
      "Epoch: 30 \tLoss: 0.12137703\n",
      "Epoch: 31 \tLoss: 0.12140573\n",
      "Epoch: 32 \tLoss: 0.121356696\n",
      "Epoch: 33 \tLoss: 0.12136726\n",
      "Epoch: 34 \tLoss: 0.121338524\n",
      "Epoch: 35 \tLoss: 0.121339716\n",
      "Epoch: 36 \tLoss: 0.12133848\n",
      "Epoch: 37 \tLoss: 0.121391945\n",
      "Epoch: 38 \tLoss: 0.121289745\n",
      "Epoch: 39 \tLoss: 0.1213733\n",
      "Epoch: 40 \tLoss: 0.12132242\n",
      "Epoch: 41 \tLoss: 0.12160824\n",
      "Epoch: 42 \tLoss: 0.12128756\n",
      "Epoch: 43 \tLoss: 0.12126086\n",
      "Epoch: 44 \tLoss: 0.121350266\n",
      "Epoch: 45 \tLoss: 0.121218435\n",
      "Epoch: 46 \tLoss: 0.12123281\n",
      "Epoch: 47 \tLoss: 0.12128548\n",
      "Epoch: 48 \tLoss: 0.12123654\n",
      "Epoch: 49 \tLoss: 0.12119749\n",
      "Epoch: 50 \tLoss: 0.12121405\n",
      "Epoch: 51 \tLoss: 0.12139365\n",
      "Epoch: 52 \tLoss: 0.121138066\n",
      "Epoch: 53 \tLoss: 0.12115967\n",
      "Epoch: 54 \tLoss: 0.12114271\n",
      "Epoch: 55 \tLoss: 0.12114958\n",
      "Epoch: 56 \tLoss: 0.12120215\n",
      "Epoch: 57 \tLoss: 0.121153794\n",
      "Epoch: 58 \tLoss: 0.12120836\n",
      "Epoch: 59 \tLoss: 0.121203326\n",
      "Epoch: 60 \tLoss: 0.12106971\n",
      "Epoch: 61 \tLoss: 0.12109901\n",
      "Epoch: 62 \tLoss: 0.12165158\n",
      "Epoch: 63 \tLoss: 0.12107483\n",
      "Epoch: 64 \tLoss: 0.12109134\n",
      "Epoch: 65 \tLoss: 0.12139178\n",
      "Epoch: 66 \tLoss: 0.12101114\n",
      "Epoch: 67 \tLoss: 0.121017285\n",
      "Epoch: 68 \tLoss: 0.121044815\n",
      "Epoch: 69 \tLoss: 0.12099297\n",
      "Epoch: 70 \tLoss: 0.12100891\n",
      "Epoch: 71 \tLoss: 0.120967336\n",
      "Epoch: 72 \tLoss: 0.12095954\n",
      "Epoch: 73 \tLoss: 0.12103968\n",
      "Epoch: 74 \tLoss: 0.120935574\n",
      "Epoch: 75 \tLoss: 0.121027775\n",
      "Epoch: 76 \tLoss: 0.12098042\n",
      "Epoch: 77 \tLoss: 0.12104498\n",
      "Epoch: 78 \tLoss: 0.12091909\n",
      "Epoch: 79 \tLoss: 0.12089632\n",
      "Epoch: 80 \tLoss: 0.1208372\n",
      "Epoch: 81 \tLoss: 0.12087025\n",
      "Epoch: 82 \tLoss: 0.12083931\n",
      "Epoch: 83 \tLoss: 0.12086637\n",
      "Epoch: 84 \tLoss: 0.1209424\n",
      "Epoch: 85 \tLoss: 0.120788805\n",
      "Epoch: 86 \tLoss: 0.12082736\n",
      "Epoch: 87 \tLoss: 0.120992765\n",
      "Epoch: 88 \tLoss: 0.12089104\n",
      "Epoch: 89 \tLoss: 0.12075967\n",
      "Epoch: 90 \tLoss: 0.12087411\n",
      "Epoch: 91 \tLoss: 0.1208078\n",
      "Epoch: 92 \tLoss: 0.120772064\n",
      "Epoch: 93 \tLoss: 0.12081333\n",
      "Epoch: 94 \tLoss: 0.120846525\n",
      "Epoch: 95 \tLoss: 0.12120758\n",
      "Epoch: 96 \tLoss: 0.12067672\n",
      "Epoch: 97 \tLoss: 0.120907694\n",
      "Epoch: 98 \tLoss: 0.12073746\n",
      "Epoch: 99 \tLoss: 0.12074094\n"
     ]
    }
   ],
   "source": [
    "# Run the training\n",
    "with tf.Session() as sess:\n",
    "    if os.path.isfile(checkpoint_epoch_path):\n",
    "        # if the checkpoint file exists, restore the model and load the epoch number\n",
    "        with open(checkpoint_epoch_path, \"rb\") as f:\n",
    "            start_epoch = int(f.read())\n",
    "        print(\"Training was interrupted. Continuing at epoch\", start_epoch)\n",
    "        saver.restore(sess, checkpoint_path)\n",
    "    else:\n",
    "        start_epoch = 0\n",
    "        sess.run(init)   \n",
    "    \n",
    "    for epoch in range(start_epoch, n_epochs):\n",
    "        \n",
    "        # Run batches\n",
    "        for batch_index in range(n_batches):\n",
    "            X_batch, y_batch = random_batch(batch_size, X_train, Y_train)\n",
    "            _, summary_str = \\\n",
    "                sess.run([training_op, loss_summary], \n",
    "                         feed_dict={X_in: X_batch, y_in: y_batch})\n",
    "            train_writer.add_summary(summary_str, epoch*n_batches+batch_index)\n",
    "        \n",
    "        # Run validation\n",
    "        rmse_val, summary_str = \\\n",
    "            sess.run([rmse, loss_summary], \n",
    "                     feed_dict={X_in: X_val, y_in: Y_val})\n",
    "        train_writer.add_summary(summary_str, epoch)\n",
    "        \n",
    "        if epoch % 1 == 0:\n",
    "            print(\"Epoch:\", epoch, \"\\tLoss:\", rmse_val)\n",
    "            saver.save(sess, checkpoint_path)\n",
    "            with open(checkpoint_epoch_path, \"wb\") as f:\n",
    "                f.write(b\"%d\" % (epoch + 1))\n",
    "\n",
    "    saver.save(sess, final_model_path)"
   ]
  },
  {
   "cell_type": "code",
   "execution_count": null,
   "metadata": {},
   "outputs": [],
   "source": [
    "# # Test accuracy\n",
    "# with tf.Session() as sess:\n",
    "#     # if the checkpoint file exists, restore the model and load the epoch number\n",
    "#     print(\"Loading model\")\n",
    "#     saver.restore(sess, final_model_path)\n",
    "\n",
    "#     acc_val = sess.run(accuracy, feed_dict={\n",
    "#         X: mnist.test.images, \n",
    "#         y: mnist.test.labels\n",
    "#     })\n",
    "#     print(\"Accuracy: {}\".format(acc_val))"
   ]
  }
 ],
 "metadata": {
  "kernelspec": {
   "display_name": "Python 3",
   "language": "python",
   "name": "python3"
  },
  "language_info": {
   "codemirror_mode": {
    "name": "ipython",
    "version": 3
   },
   "file_extension": ".py",
   "mimetype": "text/x-python",
   "name": "python",
   "nbconvert_exporter": "python",
   "pygments_lexer": "ipython3",
   "version": "3.6.4"
  }
 },
 "nbformat": 4,
 "nbformat_minor": 2
}
